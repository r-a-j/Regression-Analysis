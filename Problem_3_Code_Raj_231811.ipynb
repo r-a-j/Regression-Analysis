{
 "cells": [
  {
   "attachments": {},
   "cell_type": "markdown",
   "metadata": {},
   "source": [
    "## Project - 3 \n",
    "(Winter Semester 2022 - 2023)\\\n",
    "Regression Analysis\\\n",
    "Author - Raj Anilbhai Pawar\\\n",
    "Matriculation Number - 231811\\\n",
    "Group - 17\\\n",
    "Raj Anilbhai Pawar\\\n",
    "Amritha Sukhdev Singh Agarwal\\\n",
    "Sagar Basnet\\\n",
    "Muhammad Fahad\\\n",
    "Siddhartha Kark"
   ]
  },
  {
   "cell_type": "code",
   "execution_count": null,
   "metadata": {},
   "outputs": [],
   "source": [
    "import pandas as pd\n",
    "import os"
   ]
  },
  {
   "cell_type": "code",
   "execution_count": null,
   "metadata": {},
   "outputs": [],
   "source": [
    "# Creating a directory for plots if it doesn't exist\n",
    "\n",
    "if not os.path.isdir('Plots'):\n",
    "    os.mkdir(\"Plots\")"
   ]
  },
  {
   "cell_type": "code",
   "execution_count": null,
   "metadata": {},
   "outputs": [],
   "source": [
    "# Read dataset\n",
    "data = pd.read_csv(\"bodymeasurements.csv\")"
   ]
  },
  {
   "cell_type": "code",
   "execution_count": null,
   "metadata": {},
   "outputs": [],
   "source": [
    "# Check duplicated\n",
    "duplicate = data[data.duplicated('Name',keep = False)]\n",
    "duplicate"
   ]
  },
  {
   "cell_type": "code",
   "execution_count": null,
   "metadata": {},
   "outputs": [],
   "source": [
    "# Checking nans\n",
    "nan_rows = data[data.isnull().any(axis=1)]\n",
    "print(\"NAN Rows: \", len(nan_rows))"
   ]
  }
 ],
 "metadata": {
  "kernelspec": {
   "display_name": "base",
   "language": "python",
   "name": "python3"
  },
  "language_info": {
   "name": "python",
   "version": "3.9.7 (default, Sep 16 2021, 16:59:28) [MSC v.1916 64 bit (AMD64)]"
  },
  "orig_nbformat": 4,
  "vscode": {
   "interpreter": {
    "hash": "0f1b653f276705f8e277279ed4c100e1bf6252e7ca109921ba7d5d2dd359fc7f"
   }
  }
 },
 "nbformat": 4,
 "nbformat_minor": 2
}
